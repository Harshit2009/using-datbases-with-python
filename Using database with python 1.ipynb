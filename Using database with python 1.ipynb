{
 "cells": [
  {
   "cell_type": "code",
   "execution_count": 2,
   "metadata": {},
   "outputs": [
    {
     "name": "stdout",
     "output_type": "stream",
     "text": [
      "Enter file:mbox.txt\n",
      "iupui.edu : 536\n",
      "umich.edu : 491\n",
      "indiana.edu : 178\n",
      "caret.cam.ac.uk : 157\n",
      "vt.edu : 110\n",
      "uct.ac.za : 96\n",
      "media.berkeley.edu : 56\n",
      "ufp.pt : 28\n",
      "gmail.com : 25\n",
      "et.gatech.edu : 17\n",
      "txstate.edu : 17\n",
      "whitman.edu : 17\n",
      "lancaster.ac.uk : 14\n",
      "bu.edu : 14\n",
      "stanford.edu : 12\n",
      "unicon.net : 9\n",
      "loi.nl : 9\n",
      "rsmart.com : 8\n",
      "ucdavis.edu : 1\n",
      "fhda.edu : 1\n",
      "utoronto.ca : 1\n"
     ]
    }
   ],
   "source": [
    "import sqlite3\n",
    "\n",
    "name = input(\"Enter file:\")\n",
    "if len(name) < 1 : name = \"mbox.txt\"\n",
    "handle = open(name)\n",
    "\n",
    "templist = list()\n",
    "count = 0\n",
    "\n",
    "conn = sqlite3.connect('CountingOrganizations.sqlite')\n",
    "cur = conn.cursor()\n",
    "\n",
    "cur.execute('''CREATE TABLE IF NOT EXISTS Counts (org TEXT, count INTEGER)''')           \n",
    "cur.execute('''DELETE FROM Counts''') \n",
    "\n",
    "for line in handle:\n",
    "    \n",
    "    line = line.rstrip()\n",
    "    if not line.startswith('From ') : continue\n",
    "\n",
    "    words = line.split()\n",
    "    domain = words[1].split(\"@\")\n",
    "       \n",
    "    cur.execute('''SELECT count FROM Counts where org = ?''',(domain[1],))\n",
    "    count = cur.fetchone()\n",
    "\n",
    "    if count is None: \n",
    "        cur.execute('''INSERT INTO Counts (org, count) VALUES (?,1)''',(domain[1],))\n",
    "    else :\n",
    "\n",
    "        cur.execute('''UPDATE Counts SET count = count + 1  WHERE org = ?''',(domain[1],))\n",
    "         \n",
    "conn.commit()\n",
    "\n",
    "table = 'SELECT org, count FROM Counts ORDER BY count DESC'\n",
    "for line in cur.execute(table): \n",
    "    print(str(line[0]), \":\", str(line[1]))\n",
    "conn.close()"
   ]
  },
  {
   "cell_type": "code",
   "execution_count": null,
   "metadata": {},
   "outputs": [],
   "source": []
  }
 ],
 "metadata": {
  "kernelspec": {
   "display_name": "Python 3",
   "language": "python",
   "name": "python3"
  },
  "language_info": {
   "codemirror_mode": {
    "name": "ipython",
    "version": 3
   },
   "file_extension": ".py",
   "mimetype": "text/x-python",
   "name": "python",
   "nbconvert_exporter": "python",
   "pygments_lexer": "ipython3",
   "version": "3.7.4"
  }
 },
 "nbformat": 4,
 "nbformat_minor": 2
}
